{
 "cells": [
  {
   "cell_type": "code",
   "execution_count": 13,
   "id": "9b4e3e40",
   "metadata": {},
   "outputs": [],
   "source": [
    "import numpy as np\n",
    "import pandas as pd\n",
    "from sklearn.metrics import accuracy_score\n",
    "from sklearn.preprocessing import StandardScaler\n",
    "from sklearn.linear_model import Perceptron\n",
    "import matplotlib.pyplot as plt\n",
    "%matplotlib inline"
   ]
  },
  {
   "cell_type": "code",
   "execution_count": 3,
   "id": "08289398",
   "metadata": {},
   "outputs": [],
   "source": [
    "p_train = pd.read_csv('perceptron-train.csv', sep=',', header=None)\n",
    "p_test = pd.read_csv('perceptron-test.csv', sep=',', header=None)"
   ]
  },
  {
   "cell_type": "code",
   "execution_count": 7,
   "id": "2dcfc709",
   "metadata": {},
   "outputs": [],
   "source": [
    "X_train = p_train.values[:, 1:]\n",
    "y_train = p_train.values[:, 0]\n",
    "X_test = p_test.values[:, 1:]\n",
    "y_test = p_test.values[:, 0]"
   ]
  },
  {
   "cell_type": "markdown",
   "id": "11ebfe33",
   "metadata": {},
   "source": [
    "Линейные алгоритмы — распространенный класс моделей, которые отличается своей простотой и скоростью работы. Их можно обучать за разумное время на очень больших объемах данных, и при этом они могут работать с любыми типами признаков — вещественными, категориальными, разреженными. В этом задании мы предлагаем вам воспользоваться персептроном — одним из простейших вариантов линейных моделей.\n",
    "\n",
    "Как и в случае с метрическими методами, качество линейных алгоритмов зависит от некоторых свойств данных. В частности, признаки должны быть нормализованы, то есть иметь одинаковый масштаб. Если это не так, и масштаб одного признака сильно превосходит масштаб других, то качество может резко упасть.\n",
    "\n",
    "Один из способов нормализации заключается в стандартизации признаков. Для этого берется набор значений признака на всех объектах, вычисляется их среднее значение и стандартное отклонение. После этого из всех значений признака вычитается среднее, и затем полученная разность делится на стандартное отклонение.\n",
    "Реализация в Scikit-Learn\n",
    "\n",
    "В библиотеке scikit-learn линейные методы реализованы в пакете sklearn.linear_model. Мы будем работать с реализацией персептрона sklearn.linear_model.Perceptron. Как и у большинства моделей, обучение производится с помощью функции fit, построение прогнозов — с помощью функции predict.\n",
    "\n",
    "Пример использования:\n",
    "\n",
    "import numpy as np\n",
    "from sklearn.linear_model import Perceptron\n",
    "X = np.array([[1, 2], [3, 4], [5, 6]])\n",
    "y = np.array([0, 1, 0])\n",
    "clf = Perceptron()\n",
    "clf.fit(X, y)\n",
    "predictions = clf.predict(X)\n",
    "\n",
    "В качестве метрики качества мы будем использовать долю верных ответов (accuracy). Для ее подсчета можно воспользоваться функцией sklearn.metrics.accuracy_score, первым аргументом которой является вектор правильных ответов, а вторым — вектор ответов алгоритма.\n",
    "\n",
    "Для стандартизации признаков удобно воспользоваться классом sklearn.preprocessing.StandardScaler. Функция fit_transform данного класса находит параметры нормализации (средние и дисперсии каждого признака) по выборке, и сразу же делает нормализацию выборки с использованием этих параметров. Функция transform делает нормализацию на основе уже найденных параметров.\n",
    "\n",
    "Пример использования:\n",
    "\n",
    "from sklearn.preprocessing import StandardScaler\n",
    "scaler = StandardScaler()\n",
    "X_train = np.array([[100.0, 2.0], [50.0, 4.0], [70.0, 6.0]])\n",
    "X_test = np.array([[90.0, 1], [40.0, 3], [60.0, 4]])\n",
    "X_train_scaled = scaler.fit_transform(X_train)\n",
    "X_test_scaled = scaler.transform(X_test)\n",
    "  \n",
    "Инструкция по выполнению\n",
    "\n",
    "    Загрузите обучающую и тестовую выборки из файлов perceptron-train.csv и perceptron-test.csv. Целевая переменная записана в первом столбце, признаки — во втором и третьем.\n",
    "\n",
    "    Обучите персептрон со стандартными параметрами и random_state=241.\n",
    "\n",
    "    Подсчитайте качество (долю правильно классифицированных объектов, accuracy) полученного классификатора на тестовой выборке.\n",
    "\n",
    "    Нормализуйте обучающую и тестовую выборку с помощью класса StandardScaler. \n",
    "\n",
    "    Обучите персептрон на новой выборке. Найдите долю правильных ответов на тестовой выборке.\n",
    "\n",
    "    Найдите разность между качеством на тестовой выборке после нормализации и качеством до нее. Это число и будет ответом на задание.\n",
    "\n",
    "Если ответом является нецелое число, то целую и дробную часть необходимо разграничивать точкой, например, 0.421. При необходимости округляйте дробную часть до трех знаков."
   ]
  },
  {
   "cell_type": "code",
   "execution_count": 15,
   "id": "5d63d77e",
   "metadata": {},
   "outputs": [],
   "source": [
    "accuracy_score?\n",
    "#accuracy_score(y_true, y_pred, *, normalize=True, sample_weight=None)"
   ]
  },
  {
   "cell_type": "code",
   "execution_count": 32,
   "id": "1d5f68be",
   "metadata": {},
   "outputs": [],
   "source": [
    "clf1 = Perceptron(max_iter=5, tol=None, random_state=241)\n",
    "clf1.fit(X_train, y_train)\n",
    "predictions1 = clf1.predict(X_test)"
   ]
  },
  {
   "cell_type": "code",
   "execution_count": 33,
   "id": "d77eb89e",
   "metadata": {},
   "outputs": [],
   "source": [
    "a1 = accuracy_score(y_test, predictions1)"
   ]
  },
  {
   "cell_type": "code",
   "execution_count": 34,
   "id": "d190842f",
   "metadata": {},
   "outputs": [],
   "source": [
    "scaler = StandardScaler()\n",
    "X_train_scaled = scaler.fit_transform(X_train)\n",
    "X_test_scaled = scaler.transform(X_test)"
   ]
  },
  {
   "cell_type": "code",
   "execution_count": 35,
   "id": "b7e4afa0",
   "metadata": {},
   "outputs": [],
   "source": [
    "clf2 = Perceptron(max_iter=5, tol=None, random_state=241)\n",
    "clf2.fit(X_train_scaled, y_train)\n",
    "predictions2 = clf2.predict(X_test_scaled)\n",
    "a2 = accuracy_score(y_test, predictions2)"
   ]
  },
  {
   "cell_type": "code",
   "execution_count": 36,
   "id": "e99fc7ef",
   "metadata": {},
   "outputs": [
    {
     "name": "stdout",
     "output_type": "stream",
     "text": [
      "0.185\n"
     ]
    }
   ],
   "source": [
    "answer = f'{round(a2 - a1, 3)}'\n",
    "print(answer)\n",
    "with open('lab5.txt', 'w') as outfile:\n",
    "    outfile.write(answer)"
   ]
  }
 ],
 "metadata": {
  "kernelspec": {
   "display_name": "Python 3",
   "language": "python",
   "name": "python3"
  },
  "language_info": {
   "codemirror_mode": {
    "name": "ipython",
    "version": 3
   },
   "file_extension": ".py",
   "mimetype": "text/x-python",
   "name": "python",
   "nbconvert_exporter": "python",
   "pygments_lexer": "ipython3",
   "version": "3.8.8"
  }
 },
 "nbformat": 4,
 "nbformat_minor": 5
}
