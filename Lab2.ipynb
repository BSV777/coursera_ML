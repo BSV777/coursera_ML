{
 "cells": [
  {
   "cell_type": "code",
   "execution_count": 189,
   "id": "53bedaae",
   "metadata": {},
   "outputs": [],
   "source": [
    "import numpy as np\n",
    "import pandas as pd\n",
    "from sklearn.tree import DecisionTreeClassifier\n",
    "data = pd.read_csv('titanic.csv', index_col='PassengerId')"
   ]
  },
  {
   "cell_type": "markdown",
   "id": "3142e393",
   "metadata": {},
   "source": [
    "    Загрузите выборку из файла titanic.csv с помощью пакета Pandas.\n",
    "\n",
    "    Оставьте в выборке четыре признака: класс пассажира (Pclass), цену билета (Fare), возраст пассажира (Age) и его пол (Sex).\n",
    "\n",
    "    Обратите внимание, что признак Sex имеет строковые значения.\n",
    "\n",
    "    Выделите целевую переменную — она записана в столбце Survived.\n",
    "\n",
    "    В данных есть пропущенные значения — например, для некоторых пассажиров неизвестен их возраст. Такие записи при чтении их в pandas принимают значение nan. Найдите все объекты, у которых есть пропущенные признаки, и удалите их из выборки. \n",
    "\n",
    "    Обучите решающее дерево с параметром random_state=241 и остальными параметрами по умолчанию (речь идет о параметрах конструктора DecisionTreeСlassifier).\n",
    "\n",
    "    Вычислите важности признаков и найдите два признака с наибольшей важностью. Их названия будут ответами для данной задачи (в качестве ответа укажите названия признаков через запятую или пробел, порядок не важен). "
   ]
  },
  {
   "cell_type": "code",
   "execution_count": null,
   "id": "2f68b9d7",
   "metadata": {},
   "outputs": [],
   "source": [
    "import numpy as np\n",
    "from sklearn.tree import DecisionTreeClassifier\n",
    "X = np.array([[1, 2], [3, 4], [5, 6]])\n",
    "y = np.array([0, 1, 0])\n",
    "clf = DecisionTreeClassifier()\n",
    "clf.fit(X, y)\n",
    "#В этом задании вам также потребуется находить важность признаков. \n",
    "#Это можно сделать, имея уже обученный классификатор:\n",
    "importances = clf.feature_importances_\n",
    "# Стоит обратить внимание, что данные могут содержать пропуски. Pandas хранит такие значения как nan (not a number). \n",
    "# Для того, чтобы проверить, является ли число nan'ом, можно воспользоваться функцией np.isnan.\n",
    "np.isnan(X)"
   ]
  },
  {
   "cell_type": "code",
   "execution_count": 213,
   "id": "fe20ae2c",
   "metadata": {},
   "outputs": [
    {
     "data": {
      "text/html": [
       "<div>\n",
       "<style scoped>\n",
       "    .dataframe tbody tr th:only-of-type {\n",
       "        vertical-align: middle;\n",
       "    }\n",
       "\n",
       "    .dataframe tbody tr th {\n",
       "        vertical-align: top;\n",
       "    }\n",
       "\n",
       "    .dataframe thead th {\n",
       "        text-align: right;\n",
       "    }\n",
       "</style>\n",
       "<table border=\"1\" class=\"dataframe\">\n",
       "  <thead>\n",
       "    <tr style=\"text-align: right;\">\n",
       "      <th></th>\n",
       "      <th>Pclass</th>\n",
       "      <th>Fare</th>\n",
       "      <th>Age</th>\n",
       "      <th>Sex</th>\n",
       "      <th>Survived</th>\n",
       "    </tr>\n",
       "  </thead>\n",
       "  <tbody>\n",
       "    <tr>\n",
       "      <th>count</th>\n",
       "      <td>714.000000</td>\n",
       "      <td>714.000000</td>\n",
       "      <td>714.000000</td>\n",
       "      <td>714.000000</td>\n",
       "      <td>714.000000</td>\n",
       "    </tr>\n",
       "    <tr>\n",
       "      <th>mean</th>\n",
       "      <td>2.236695</td>\n",
       "      <td>34.694514</td>\n",
       "      <td>29.699118</td>\n",
       "      <td>0.634454</td>\n",
       "      <td>0.406162</td>\n",
       "    </tr>\n",
       "    <tr>\n",
       "      <th>std</th>\n",
       "      <td>0.838250</td>\n",
       "      <td>52.918930</td>\n",
       "      <td>14.526497</td>\n",
       "      <td>0.481921</td>\n",
       "      <td>0.491460</td>\n",
       "    </tr>\n",
       "    <tr>\n",
       "      <th>min</th>\n",
       "      <td>1.000000</td>\n",
       "      <td>0.000000</td>\n",
       "      <td>0.420000</td>\n",
       "      <td>0.000000</td>\n",
       "      <td>0.000000</td>\n",
       "    </tr>\n",
       "    <tr>\n",
       "      <th>25%</th>\n",
       "      <td>1.000000</td>\n",
       "      <td>8.050000</td>\n",
       "      <td>20.125000</td>\n",
       "      <td>0.000000</td>\n",
       "      <td>0.000000</td>\n",
       "    </tr>\n",
       "    <tr>\n",
       "      <th>50%</th>\n",
       "      <td>2.000000</td>\n",
       "      <td>15.741700</td>\n",
       "      <td>28.000000</td>\n",
       "      <td>1.000000</td>\n",
       "      <td>0.000000</td>\n",
       "    </tr>\n",
       "    <tr>\n",
       "      <th>75%</th>\n",
       "      <td>3.000000</td>\n",
       "      <td>33.375000</td>\n",
       "      <td>38.000000</td>\n",
       "      <td>1.000000</td>\n",
       "      <td>1.000000</td>\n",
       "    </tr>\n",
       "    <tr>\n",
       "      <th>max</th>\n",
       "      <td>3.000000</td>\n",
       "      <td>512.329200</td>\n",
       "      <td>80.000000</td>\n",
       "      <td>1.000000</td>\n",
       "      <td>1.000000</td>\n",
       "    </tr>\n",
       "  </tbody>\n",
       "</table>\n",
       "</div>"
      ],
      "text/plain": [
       "           Pclass        Fare         Age         Sex    Survived\n",
       "count  714.000000  714.000000  714.000000  714.000000  714.000000\n",
       "mean     2.236695   34.694514   29.699118    0.634454    0.406162\n",
       "std      0.838250   52.918930   14.526497    0.481921    0.491460\n",
       "min      1.000000    0.000000    0.420000    0.000000    0.000000\n",
       "25%      1.000000    8.050000   20.125000    0.000000    0.000000\n",
       "50%      2.000000   15.741700   28.000000    1.000000    0.000000\n",
       "75%      3.000000   33.375000   38.000000    1.000000    1.000000\n",
       "max      3.000000  512.329200   80.000000    1.000000    1.000000"
      ]
     },
     "execution_count": 213,
     "metadata": {},
     "output_type": "execute_result"
    }
   ],
   "source": [
    "df = data[['Pclass', 'Fare', 'Age', 'Sex', 'Survived']].copy()\n",
    "df = df.dropna()\n",
    "df[df['Age'].isnull()]\n",
    "data[data['Age'].isnull()]\n",
    "df.shape\n",
    "#df\n",
    "#df.describe()\n",
    "df['Sex'] = df['Sex'].apply(lambda x: 1 if x == \"male\" else 0)\n",
    "df.describe()"
   ]
  },
  {
   "cell_type": "code",
   "execution_count": 214,
   "id": "6e341b4b",
   "metadata": {},
   "outputs": [
    {
     "data": {
      "text/plain": [
       "array([[ 3.    ,  7.25  , 22.    ,  1.    ],\n",
       "       [ 1.    , 71.2833, 38.    ,  0.    ],\n",
       "       [ 3.    ,  7.925 , 26.    ,  0.    ],\n",
       "       ...,\n",
       "       [ 1.    , 30.    , 19.    ,  0.    ],\n",
       "       [ 1.    , 30.    , 26.    ,  1.    ],\n",
       "       [ 3.    ,  7.75  , 32.    ,  1.    ]])"
      ]
     },
     "execution_count": 214,
     "metadata": {},
     "output_type": "execute_result"
    }
   ],
   "source": [
    "X = np.array(df[['Pclass', 'Fare', 'Age', 'Sex']])\n",
    "y = np.array(df['Survived'])\n",
    "X"
   ]
  },
  {
   "cell_type": "code",
   "execution_count": 215,
   "id": "16b399a1",
   "metadata": {},
   "outputs": [],
   "source": [
    "clf = DecisionTreeClassifier(random_state=241)\n",
    "clf.fit(X, y)\n",
    "importances = clf.feature_importances_"
   ]
  },
  {
   "cell_type": "code",
   "execution_count": 216,
   "id": "0f2001f5",
   "metadata": {},
   "outputs": [
    {
     "data": {
      "text/plain": [
       "Pclass    0.140005\n",
       "Fare      0.303436\n",
       "Age       0.256046\n",
       "Sex       0.300512\n",
       "dtype: float64"
      ]
     },
     "execution_count": 216,
     "metadata": {},
     "output_type": "execute_result"
    }
   ],
   "source": [
    "feature_names = ['Pclass', 'Fare', 'Age', 'Sex']\n",
    "forest_importances = pd.Series(importances, index=feature_names)\n",
    "forest_importances"
   ]
  },
  {
   "cell_type": "code",
   "execution_count": 220,
   "id": "af3feac8",
   "metadata": {},
   "outputs": [
    {
     "name": "stdout",
     "output_type": "stream",
     "text": [
      "[['0.1400052185312419' '0.3034364695314525' '0.2560461009790662'\n",
      "  '0.30051221095823943']\n",
      " ['Pclass' 'Fare' 'Age' 'Sex']]\n",
      "--------------------\n",
      "['Fare' 'Sex' 'Age' 'Pclass']\n"
     ]
    }
   ],
   "source": [
    "#Ximp = pd.DataFrame([importances, ['Pclass', 'Fare', 'Age', 'Sex']]).T\n",
    "#Xsort = Ximp.sort_values(by=[0], ascending=False)\n",
    "\n",
    "Ximp = np.array([importances, ['Pclass', 'Fare', 'Age', 'Sex']])\n",
    "print(Ximp)\n",
    "print('-'*20)\n",
    "Xsort = Ximp[:, Ximp[0, :].argsort()][1, ::-1]\n",
    "print(Xsort)"
   ]
  },
  {
   "cell_type": "code",
   "execution_count": 221,
   "id": "0a53a969",
   "metadata": {},
   "outputs": [
    {
     "name": "stdout",
     "output_type": "stream",
     "text": [
      "Fare Sex\n"
     ]
    }
   ],
   "source": [
    "answer = f'%s %s' % (Xsort[0], Xsort[1])\n",
    "print(answer)\n",
    "with open('lab2.txt', 'w') as outfile:\n",
    "    outfile.write(answer)"
   ]
  }
 ],
 "metadata": {
  "kernelspec": {
   "display_name": "Python 3",
   "language": "python",
   "name": "python3"
  },
  "language_info": {
   "codemirror_mode": {
    "name": "ipython",
    "version": 3
   },
   "file_extension": ".py",
   "mimetype": "text/x-python",
   "name": "python",
   "nbconvert_exporter": "python",
   "pygments_lexer": "ipython3",
   "version": "3.8.8"
  }
 },
 "nbformat": 4,
 "nbformat_minor": 5
}
