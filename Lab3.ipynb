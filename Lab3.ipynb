{
 "cells": [
  {
   "cell_type": "code",
   "execution_count": 75,
   "id": "ff1bd20b",
   "metadata": {},
   "outputs": [],
   "source": [
    "import numpy as np\n",
    "import pandas as pd\n",
    "from sklearn.neighbors import KNeighborsClassifier as KNN\n",
    "from sklearn.model_selection import KFold\n",
    "from sklearn.model_selection import cross_val_score\n",
    "from sklearn.preprocessing import scale\n",
    "import matplotlib.pyplot as plt\n",
    "%matplotlib inline"
   ]
  },
  {
   "cell_type": "code",
   "execution_count": 21,
   "id": "ac26e782",
   "metadata": {},
   "outputs": [
    {
     "name": "stdout",
     "output_type": "stream",
     "text": [
      "[[1.000e+00 1.423e+01 1.710e+00 ... 1.040e+00 3.920e+00 1.065e+03]\n",
      " [1.000e+00 1.320e+01 1.780e+00 ... 1.050e+00 3.400e+00 1.050e+03]\n",
      " [1.000e+00 1.316e+01 2.360e+00 ... 1.030e+00 3.170e+00 1.185e+03]\n",
      " ...\n",
      " [3.000e+00 1.327e+01 4.280e+00 ... 5.900e-01 1.560e+00 8.350e+02]\n",
      " [3.000e+00 1.317e+01 2.590e+00 ... 6.000e-01 1.620e+00 8.400e+02]\n",
      " [3.000e+00 1.413e+01 4.100e+00 ... 6.100e-01 1.600e+00 5.600e+02]]\n",
      "[[1.423e+01 1.710e+00 2.430e+00 ... 1.040e+00 3.920e+00 1.065e+03]\n",
      " [1.320e+01 1.780e+00 2.140e+00 ... 1.050e+00 3.400e+00 1.050e+03]\n",
      " [1.316e+01 2.360e+00 2.670e+00 ... 1.030e+00 3.170e+00 1.185e+03]\n",
      " ...\n",
      " [1.327e+01 4.280e+00 2.260e+00 ... 5.900e-01 1.560e+00 8.350e+02]\n",
      " [1.317e+01 2.590e+00 2.370e+00 ... 6.000e-01 1.620e+00 8.400e+02]\n",
      " [1.413e+01 4.100e+00 2.740e+00 ... 6.100e-01 1.600e+00 5.600e+02]]\n",
      "[1 1 1 1 1 1 1 1 1 1 1 1 1 1 1 1 1 1 1 1 1 1 1 1 1 1 1 1 1 1 1 1 1 1 1 1 1\n",
      " 1 1 1 1 1 1 1 1 1 1 1 1 1 1 1 1 1 1 1 1 1 1 2 2 2 2 2 2 2 2 2 2 2 2 2 2 2\n",
      " 2 2 2 2 2 2 2 2 2 2 2 2 2 2 2 2 2 2 2 2 2 2 2 2 2 2 2 2 2 2 2 2 2 2 2 2 2\n",
      " 2 2 2 2 2 2 2 2 2 2 2 2 2 2 2 2 2 2 2 3 3 3 3 3 3 3 3 3 3 3 3 3 3 3 3 3 3\n",
      " 3 3 3 3 3 3 3 3 3 3 3 3 3 3 3 3 3 3 3 3 3 3 3 3 3 3 3 3 3 3]\n"
     ]
    }
   ],
   "source": [
    "#data = pd.read_csv('wine.data', header=None)\n",
    "data = np.genfromtxt('wine.data', delimiter=',')\n",
    "X = data[:, 1:]\n",
    "y = data[:, 0].astype(int)\n",
    "print(data)\n",
    "print(X)\n",
    "print(y)"
   ]
  },
  {
   "cell_type": "markdown",
   "id": "45df0801",
   "metadata": {},
   "source": [
    "Метод k ближайших соседей реализован в классе sklearn.neighbors.KNeighborsClassifier. Основным параметром является n_neighbors, который задает число соседей для построения прогноза.\n",
    "\n",
    "Вам понадобится производить кросс-валидацию по блокам. Кросс-валидация заключается в разделении выборки на m непересекающихся блоков примерно одинакового размера, после чего выполняется m шагов. На i-м шаге i-й блок выступает в качестве тестовой выборки, объединение всех остальных блоков — в качестве обучающей выборки. Соответственно, на каждом шаге алгоритм обучается на некоторой обучающей выборке, после чего вычисляется его качество на тестовой выборке. После выполнения m шагов мы получаем m показателей качества, усреднение которых и дает оценку кросс-валидации. \n",
    "\n",
    "Технически кросс-валидация проводится в два этапа:\n",
    "\n",
    "    Создается генератор разбиений sklearn.model_selection.KFold, который задает набор разбиений на обучение и валидацию. Число блоков в кросс-валидации определяется параметром n_splits. Обратите внимание, что порядок следования объектов в выборке может быть неслучайным, это может привести к смещенности кросс-валидационной оценки. Чтобы устранить такой эффект, объекты выборки случайно перемешивают перед разбиением на блоки. Для перемешивания достаточно передать генератору KFold параметр shuffle=True.\n",
    "\n",
    "    Вычислить качество на всех разбиениях можно при помощи функции sklearn.model_selection.cross_val_score. В качестве параметра estimator передается классификатор, в качестве параметра cv — генератор разбиений с предыдущего шага. С помощью параметра scoring можно задавать меру качества, по умолчанию в задачах классификации используется доля верных ответов (accuracy). Результатом является массив, значения которого нужно усреднить.\n",
    "\n",
    "Приведение признаков к одному масштабу можно делать с помощью функции sklearn.preprocessing.scale, которой на вход необходимо подать матрицу признаков и получить масштабированную матрицу, в которой каждый столбец имеет нулевое среднее значение и единичное стандартное отклонение."
   ]
  },
  {
   "cell_type": "markdown",
   "id": "75f584ae",
   "metadata": {},
   "source": [
    "В этом задании вам нужно подобрать оптимальное значение k для алгоритма kNN. Будем использовать набор данных Wine, где требуется предсказать сорт винограда, из которого изготовлено вино, используя результаты химических анализов.\n",
    "\n",
    "    Оценку качества необходимо провести методом кросс-валидации по 5 блокам (5-fold). Создайте генератор разбиений, который перемешивает выборку перед формированием блоков (shuffle=True). Для воспроизводимости результата, создавайте генератор KFold с фиксированным параметром random_state=42. В качестве меры качества используйте долю верных ответов (accuracy).\n",
    "\n",
    "    Найдите точность классификации на кросс-валидации для метода k ближайших соседей (sklearn.neighbors.KNeighborsClassifier), при k от 1 до 50. При каком k получилось оптимальное качество? Чему оно равно (число в интервале от 0 до 1)? Данные результаты и будут ответами на вопросы 1 и 2.\n",
    "\n",
    "    Произведите масштабирование признаков с помощью функции sklearn.preprocessing.scale. Снова найдите оптимальное k на кросс-валидации.\n",
    "\n",
    "    Какое значение k получилось оптимальным после приведения признаков к одному масштабу? Приведите ответы на вопросы 3 и 4. Помогло ли масштабирование признаков?\n",
    "\n",
    "Если ответом является нецелое число, то целую и дробную часть необходимо разграничивать точкой, например, 0.5. При необходимости округляйте дробную часть до двух знаков."
   ]
  },
  {
   "cell_type": "code",
   "execution_count": 9,
   "id": "eb44d46c",
   "metadata": {},
   "outputs": [],
   "source": [
    "KFold?"
   ]
  },
  {
   "cell_type": "code",
   "execution_count": 53,
   "id": "19ef5d64",
   "metadata": {},
   "outputs": [],
   "source": [
    "kf = KFold(n_splits=5, shuffle=True, random_state=42)"
   ]
  },
  {
   "cell_type": "code",
   "execution_count": 22,
   "id": "ad70d999",
   "metadata": {},
   "outputs": [
    {
     "data": {
      "text/plain": [
       "5"
      ]
     },
     "execution_count": 22,
     "metadata": {},
     "output_type": "execute_result"
    }
   ],
   "source": [
    "kf.get_n_splits(X)"
   ]
  },
  {
   "cell_type": "code",
   "execution_count": 23,
   "id": "1358a621",
   "metadata": {},
   "outputs": [
    {
     "name": "stdout",
     "output_type": "stream",
     "text": [
      "KFold(n_splits=5, random_state=42, shuffle=True)\n"
     ]
    }
   ],
   "source": [
    "print(kf)"
   ]
  },
  {
   "cell_type": "code",
   "execution_count": 24,
   "id": "9e137132",
   "metadata": {},
   "outputs": [
    {
     "name": "stdout",
     "output_type": "stream",
     "text": [
      "TRAIN: [  0   1   2   3   4   5   6   7   8  10  11  13  14  17  20  21  22  23\n",
      "  25  26  27  28  32  33  34  35  36  37  38  39  40  43  44  46  47  48\n",
      "  49  50  51  52  53  54  56  57  58  59  61  62  63  64  68  69  70  71\n",
      "  72  73  74  75  76  77  78  79  80  81  83  84  85  86  87  88  89  91\n",
      "  92  93  94  95  96  97  98  99 100 101 102 103 104 105 106 107 108 110\n",
      " 112 115 116 120 121 122 123 124 125 126 127 129 130 131 132 133 134 135\n",
      " 136 137 138 139 142 143 144 146 147 148 149 151 152 153 154 155 156 157\n",
      " 158 159 160 161 162 163 165 166 167 168 170 172 173 175 176 177] TEST: [  9  12  15  16  18  19  24  29  30  31  41  42  45  55  60  65  66  67\n",
      "  82  90 109 111 113 114 117 118 119 128 140 141 145 150 164 169 171 174]\n",
      "TRAIN: [  0   1   3   5   7   8   9  10  12  13  14  15  16  17  18  19  20  21\n",
      "  23  24  25  28  29  30  31  33  34  35  37  39  40  41  42  43  44  45\n",
      "  46  47  48  49  50  52  53  54  55  57  58  59  60  61  62  63  64  65\n",
      "  66  67  70  71  72  73  74  75  77  79  80  81  82  83  84  86  87  88\n",
      "  89  90  91  92  94  96  99 101 102 103 105 106 107 109 110 111 112 113\n",
      " 114 115 116 117 118 119 120 121 123 124 125 126 127 128 129 130 131 132\n",
      " 133 134 135 136 139 140 141 142 145 147 148 149 150 151 152 155 156 157\n",
      " 160 161 162 163 164 165 166 168 169 171 172 173 174 175 176 177] TEST: [  2   4   6  11  22  26  27  32  36  38  51  56  68  69  76  78  85  93\n",
      "  95  97  98 100 104 108 122 137 138 143 144 146 153 154 158 159 167 170]\n",
      "TRAIN: [  1   2   3   4   5   6   7   8   9  11  12  13  14  15  16  17  18  19\n",
      "  20  21  22  24  26  27  29  30  31  32  34  35  36  37  38  41  42  43\n",
      "  45  46  48  49  50  51  52  53  54  55  56  57  58  59  60  63  65  66\n",
      "  67  68  69  70  71  72  74  76  77  78  80  82  83  85  87  88  89  90\n",
      "  91  92  93  95  97  98  99 100 102 103 104 105 106 107 108 109 110 111\n",
      " 112 113 114 115 116 117 118 119 121 122 124 128 129 130 131 134 136 137\n",
      " 138 140 141 143 144 145 146 148 149 150 151 152 153 154 155 156 157 158\n",
      " 159 160 161 163 164 165 167 168 169 170 171 172 174 175 176 177] TEST: [  0  10  23  25  28  33  39  40  44  47  61  62  64  73  75  79  81  84\n",
      "  86  94  96 101 120 123 125 126 127 132 133 135 139 142 147 162 166 173]\n",
      "TRAIN: [  0   1   2   4   6   9  10  11  12  14  15  16  18  19  20  21  22  23\n",
      "  24  25  26  27  28  29  30  31  32  33  36  37  38  39  40  41  42  44\n",
      "  45  47  48  50  51  52  54  55  56  57  58  60  61  62  63  64  65  66\n",
      "  67  68  69  71  73  74  75  76  78  79  81  82  84  85  86  87  88  90\n",
      "  92  93  94  95  96  97  98  99 100 101 102 103 104 106 107 108 109 111\n",
      " 113 114 116 117 118 119 120 121 122 123 125 126 127 128 129 130 132 133\n",
      " 135 137 138 139 140 141 142 143 144 145 146 147 148 149 150 151 153 154\n",
      " 157 158 159 162 163 164 166 167 168 169 170 171 172 173 174 175 177] TEST: [  3   5   7   8  13  17  34  35  43  46  49  53  59  70  72  77  80  83\n",
      "  89  91 105 110 112 115 124 131 134 136 152 155 156 160 161 165 176]\n",
      "TRAIN: [  0   2   3   4   5   6   7   8   9  10  11  12  13  15  16  17  18  19\n",
      "  22  23  24  25  26  27  28  29  30  31  32  33  34  35  36  38  39  40\n",
      "  41  42  43  44  45  46  47  49  51  53  55  56  59  60  61  62  64  65\n",
      "  66  67  68  69  70  72  73  75  76  77  78  79  80  81  82  83  84  85\n",
      "  86  89  90  91  93  94  95  96  97  98 100 101 104 105 108 109 110 111\n",
      " 112 113 114 115 117 118 119 120 122 123 124 125 126 127 128 131 132 133\n",
      " 134 135 136 137 138 139 140 141 142 143 144 145 146 147 150 152 153 154\n",
      " 155 156 158 159 160 161 162 164 165 166 167 169 170 171 173 174 176] TEST: [  1  14  20  21  37  48  50  52  54  57  58  63  71  74  87  88  92  99\n",
      " 102 103 106 107 116 121 129 130 148 149 151 157 163 168 172 175 177]\n"
     ]
    }
   ],
   "source": [
    "for train_index, test_index in kf.split(X):\n",
    "    print(\"TRAIN:\", train_index, \"TEST:\", test_index)\n",
    "    X_train, X_test = X[train_index], X[test_index]\n",
    "    y_train, y_test = y[train_index], y[test_index]"
   ]
  },
  {
   "cell_type": "code",
   "execution_count": 60,
   "id": "5c743b31",
   "metadata": {},
   "outputs": [
    {
     "data": {
      "text/plain": [
       "KNeighborsClassifier(n_neighbors=1)"
      ]
     },
     "execution_count": 60,
     "metadata": {},
     "output_type": "execute_result"
    }
   ],
   "source": [
    "neigh = KNN(n_neighbors=1)\n",
    "neigh.fit(X, y)"
   ]
  },
  {
   "cell_type": "code",
   "execution_count": 46,
   "id": "4ade410d",
   "metadata": {},
   "outputs": [
    {
     "data": {
      "text/plain": [
       "array([1, 1, 1, 1, 3, 1, 1, 1, 1, 1, 1, 1, 1, 1, 1, 1, 1, 1, 1, 3, 1, 3,\n",
       "       1, 1, 3, 3, 1, 1, 1, 1, 1, 1, 1, 1, 1, 1, 1, 1, 1, 1, 1, 1, 1, 2,\n",
       "       1, 1, 1, 1, 1, 1, 1, 1, 1, 1, 1, 1, 1, 1, 1, 2, 2, 2, 3, 2, 2, 2,\n",
       "       2, 2, 3, 1, 1, 2, 2, 1, 1, 2, 2, 3, 1, 2, 2, 3, 2, 2, 3, 2, 2, 2,\n",
       "       2, 3, 2, 2, 2, 2, 2, 1, 3, 2, 3, 2, 3, 2, 2, 2, 2, 2, 2, 2, 2, 2,\n",
       "       3, 2, 3, 2, 2, 2, 2, 2, 2, 2, 3, 2, 2, 2, 2, 2, 2, 2, 2, 2, 3, 3,\n",
       "       2, 3, 3, 2, 3, 3, 2, 3, 3, 3, 3, 3, 1, 3, 2, 3, 3, 3, 3, 2, 2, 2,\n",
       "       3, 3, 2, 1, 3, 3, 3, 2, 3, 2, 3, 3, 3, 2, 3, 3, 3, 2, 3, 3, 3, 3,\n",
       "       3, 3])"
      ]
     },
     "execution_count": 46,
     "metadata": {},
     "output_type": "execute_result"
    }
   ],
   "source": [
    "neigh.predict(X)"
   ]
  },
  {
   "cell_type": "code",
   "execution_count": 52,
   "id": "3cd7f1b9",
   "metadata": {},
   "outputs": [],
   "source": [
    "cross_val_score?"
   ]
  },
  {
   "cell_type": "code",
   "execution_count": 67,
   "id": "47d176e1",
   "metadata": {},
   "outputs": [
    {
     "data": {
      "text/plain": [
       "0.6746031746031746"
      ]
     },
     "execution_count": 67,
     "metadata": {},
     "output_type": "execute_result"
    }
   ],
   "source": [
    "sc = cross_val_score(estimator=neigh, X=X, y=y, cv=kf).mean()\n",
    "sc"
   ]
  },
  {
   "cell_type": "code",
   "execution_count": 154,
   "id": "0a1033a1",
   "metadata": {},
   "outputs": [
    {
     "name": "stdout",
     "output_type": "stream",
     "text": [
      "k = 1 - score = 0.730476\n",
      "k = 2 - score = 0.662540\n",
      "k = 3 - score = 0.708254\n",
      "k = 4 - score = 0.657778\n",
      "k = 5 - score = 0.674603\n",
      "k = 6 - score = 0.674286\n",
      "k = 7 - score = 0.680000\n",
      "k = 8 - score = 0.680000\n",
      "k = 9 - score = 0.702381\n",
      "k = 10 - score = 0.680159\n",
      "k = 11 - score = 0.702540\n",
      "k = 12 - score = 0.696667\n",
      "k = 13 - score = 0.690952\n",
      "k = 14 - score = 0.679365\n",
      "k = 15 - score = 0.701905\n",
      "k = 16 - score = 0.679524\n",
      "k = 17 - score = 0.701587\n",
      "k = 18 - score = 0.679524\n",
      "k = 19 - score = 0.679365\n",
      "k = 20 - score = 0.690952\n",
      "k = 21 - score = 0.701905\n",
      "k = 22 - score = 0.696508\n",
      "k = 23 - score = 0.702063\n",
      "k = 24 - score = 0.707619\n",
      "k = 25 - score = 0.701905\n",
      "k = 26 - score = 0.696508\n",
      "k = 27 - score = 0.696349\n",
      "k = 28 - score = 0.707937\n",
      "k = 29 - score = 0.713492\n",
      "k = 30 - score = 0.707937\n",
      "k = 31 - score = 0.690952\n",
      "k = 32 - score = 0.713492\n",
      "k = 33 - score = 0.713492\n",
      "k = 34 - score = 0.724603\n",
      "k = 35 - score = 0.724603\n",
      "k = 36 - score = 0.713492\n",
      "k = 37 - score = 0.713492\n",
      "k = 38 - score = 0.713492\n",
      "k = 39 - score = 0.707937\n",
      "k = 40 - score = 0.707778\n",
      "k = 41 - score = 0.713492\n",
      "k = 42 - score = 0.707778\n",
      "k = 43 - score = 0.707778\n",
      "k = 44 - score = 0.707778\n",
      "k = 45 - score = 0.707778\n",
      "k = 46 - score = 0.707778\n",
      "k = 47 - score = 0.696667\n",
      "k = 48 - score = 0.719048\n",
      "k = 49 - score = 0.696667\n",
      "k = 50 - score = 0.707778\n"
     ]
    }
   ],
   "source": [
    "d1 = []\n",
    "for k in range(1, 51):\n",
    "    neigh = KNN(n_neighbors=k)\n",
    "    neigh.fit(X, y)\n",
    "    #print(neigh.predict(X))\n",
    "    sc = cross_val_score(estimator=neigh, X=X, y=y, cv=kf).mean()\n",
    "    d1.append([k, sc])\n",
    "    print('k = %d - score = %f' % (k, sc))"
   ]
  },
  {
   "cell_type": "code",
   "execution_count": 155,
   "id": "6b362533",
   "metadata": {},
   "outputs": [
    {
     "data": {
      "text/plain": [
       "[<matplotlib.lines.Line2D at 0x7f2be70dc130>]"
      ]
     },
     "execution_count": 155,
     "metadata": {},
     "output_type": "execute_result"
    },
    {
     "data": {
      "image/png": "[encoded data removed]",
      "text/plain": [
       "<Figure size 432x288 with 1 Axes>"
      ]
     },
     "metadata": {
      "needs_background": "light"
     },
     "output_type": "display_data"
    }
   ],
   "source": [
    "d1 = np.array(d1)\n",
    "plt.plot(d1[:,0], d1[:,1])"
   ]
  },
  {
   "cell_type": "code",
   "execution_count": 156,
   "id": "7228e0af",
   "metadata": {},
   "outputs": [
    {
     "name": "stdout",
     "output_type": "stream",
     "text": [
      "1\n"
     ]
    }
   ],
   "source": [
    "answer = f'%d' % d1[d1[:,1].argmax(), 0]\n",
    "print(answer)\n",
    "with open('lab3_1.txt', 'w') as outfile:\n",
    "    outfile.write(answer)"
   ]
  },
  {
   "cell_type": "code",
   "execution_count": 157,
   "id": "f320e8cf",
   "metadata": {},
   "outputs": [
    {
     "name": "stdout",
     "output_type": "stream",
     "text": [
      "0.73\n"
     ]
    }
   ],
   "source": [
    "answer = f'{round(d1[:,1].max(), 2)}'\n",
    "print(answer)\n",
    "with open('lab3_2.txt', 'w') as outfile:\n",
    "    outfile.write(answer)"
   ]
  },
  {
   "cell_type": "code",
   "execution_count": 131,
   "id": "eea93154",
   "metadata": {},
   "outputs": [],
   "source": [
    "X_tr = scale(X)"
   ]
  },
  {
   "cell_type": "code",
   "execution_count": 132,
   "id": "2015e674",
   "metadata": {},
   "outputs": [
    {
     "data": {
      "text/plain": [
       "array([[ 1.51861254, -0.5622498 ,  0.23205254, ...,  0.36217728,\n",
       "         1.84791957,  1.01300893],\n",
       "       [ 0.24628963, -0.49941338, -0.82799632, ...,  0.40605066,\n",
       "         1.1134493 ,  0.96524152],\n",
       "       [ 0.19687903,  0.02123125,  1.10933436, ...,  0.31830389,\n",
       "         0.78858745,  1.39514818],\n",
       "       ...,\n",
       "       [ 0.33275817,  1.74474449, -0.38935541, ..., -1.61212515,\n",
       "        -1.48544548,  0.28057537],\n",
       "       [ 0.20923168,  0.22769377,  0.01273209, ..., -1.56825176,\n",
       "        -1.40069891,  0.29649784],\n",
       "       [ 1.39508604,  1.58316512,  1.36520822, ..., -1.52437837,\n",
       "        -1.42894777, -0.59516041]])"
      ]
     },
     "execution_count": 132,
     "metadata": {},
     "output_type": "execute_result"
    }
   ],
   "source": [
    "X_tr"
   ]
  },
  {
   "cell_type": "code",
   "execution_count": 158,
   "id": "298fa5ba",
   "metadata": {},
   "outputs": [],
   "source": [
    "d2 = []\n",
    "for k in range(1, 51):\n",
    "    neigh = KNN(n_neighbors=k)\n",
    "    neigh.fit(X_tr, y)\n",
    "    #print(neigh.predict(X_tr))\n",
    "    sc = cross_val_score(estimator=neigh, X=X_tr, y=y, cv=kf).mean()\n",
    "    d2.append([k, sc])\n",
    "    #print('k = %d - score = %f' % (k, sc))"
   ]
  },
  {
   "cell_type": "code",
   "execution_count": 159,
   "id": "14eb7d89",
   "metadata": {},
   "outputs": [
    {
     "data": {
      "text/plain": [
       "[<matplotlib.lines.Line2D at 0x7f2be7036c10>]"
      ]
     },
     "execution_count": 159,
     "metadata": {},
     "output_type": "execute_result"
    },
    {
     "data": {
      "image/png": "[encoded data removed]",
      "text/plain": [
       "<Figure size 432x288 with 1 Axes>"
      ]
     },
     "metadata": {
      "needs_background": "light"
     },
     "output_type": "display_data"
    }
   ],
   "source": [
    "d2 = np.array(d2)\n",
    "plt.plot(d2[:,0], d2[:,1])"
   ]
  },
  {
   "cell_type": "code",
   "execution_count": 160,
   "id": "f092067a",
   "metadata": {},
   "outputs": [
    {
     "name": "stdout",
     "output_type": "stream",
     "text": [
      "29\n"
     ]
    }
   ],
   "source": [
    "answer = f'%d' % d2[d2[:,1].argmax(), 0]\n",
    "print(answer)\n",
    "with open('lab3_3.txt', 'w') as outfile:\n",
    "    outfile.write(answer)"
   ]
  },
  {
   "cell_type": "code",
   "execution_count": 161,
   "id": "5e21bf46",
   "metadata": {},
   "outputs": [
    {
     "name": "stdout",
     "output_type": "stream",
     "text": [
      "0.98\n"
     ]
    }
   ],
   "source": [
    "answer = f'{round(d2[:,1].max(), 2)}'\n",
    "print(answer)\n",
    "with open('lab3_4.txt', 'w') as outfile:\n",
    "    outfile.write(answer)"
   ]
  }
 ],
 "metadata": {
  "kernelspec": {
   "display_name": "Python 3",
   "language": "python",
   "name": "python3"
  },
  "language_info": {
   "codemirror_mode": {
    "name": "ipython",
    "version": 3
   },
   "file_extension": ".py",
   "mimetype": "text/x-python",
   "name": "python",
   "nbconvert_exporter": "python",
   "pygments_lexer": "ipython3",
   "version": "3.8.8"
  }
 },
 "nbformat": 4,
 "nbformat_minor": 5
}
