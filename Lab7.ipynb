{
 "cells": [
  {
   "cell_type": "code",
   "execution_count": 2,
   "id": "3661e06f",
   "metadata": {},
   "outputs": [],
   "source": [
    "import numpy as np\n",
    "import pandas as pd\n",
    "from sklearn.svm import SVC\n",
    "from sklearn.model_selection import KFold\n",
    "import matplotlib.pyplot as plt\n",
    "from sklearn import datasets\n",
    "from sklearn.model_selection import GridSearchCV\n",
    "from sklearn.feature_extraction.text import TfidfVectorizer\n",
    "%matplotlib inline"
   ]
  },
  {
   "cell_type": "markdown",
   "id": "a2e45583",
   "metadata": {},
   "source": [
    "Одна из причин популярности линейных методов заключается в том, что они хорошо работают на разреженных данных. Так называются выборки с большим количеством признаков, где на каждом объекте большинство признаков равны нулю. Разреженные данные возникают, например, при работе с текстами. Дело в том, что текст удобно кодировать с помощью \"мешка слов\" — формируется столько признаков, сколько всего уникальных слов встречается в текстах, и значение каждого признака равно числу вхождений в документ соответствующего слова. Ясно, что общее число различных слов в наборе текстов может достигать десятков тысяч, и при этом лишь небольшая их часть будет встречаться в одном конкретном тексте.\n",
    "\n",
    "Можно кодировать тексты хитрее, и записывать не количество вхождений слова в текст, а TF-IDF. Это показатель, который равен произведению двух чисел: TF (term frequency) и IDF (inverse document frequency). Первая равна отношению числа вхождений слова в документ к общей длине документа. Вторая величина зависит от того, в скольки документах выборки встречается это слово. Чем больше таких документов, тем меньше IDF. Таким образом, TF-IDF будет иметь высокое значение для тех слов, которые много раз встречаются в данном документе, и редко встречаются в остальных.\n",
    "Данные\n",
    "\n",
    "Как мы уже говорили выше, линейные методы часто применяются для решения различных задач анализа текстов. В этом задании мы применим метод опорных векторов для определения того, к какой из тематик относится новость: атеизм или космос.\n",
    "Реализация в Scikit-Learn\n",
    "\n",
    "Для начала вам потребуется загрузить данные. В этом задании мы воспользуемся одним из датасетов, доступных в scikit-learn'е — 20 newsgroups. Для этого нужно воспользоваться модулем datasets:\n",
    "\n",
    "from sklearn import datasets\n",
    "\n",
    "newsgroups = datasets.fetch_20newsgroups(\n",
    "                    subset='all', \n",
    "                    categories=['alt.atheism', 'sci.space']\n",
    "             )\n",
    "             \n",
    "После выполнения этого кода массив с текстами будет находиться в поле newsgroups.data, номер класса — в поле newsgroups.target.\n",
    "\n",
    "Одна из сложностей работы с текстовыми данными состоит в том, что для них нужно построить числовое представление. Одним из способов нахождения такого представления является вычисление TF-IDF. В Scikit-Learn это реализовано в классе sklearn.feature_extraction.text.TfidfVectorizer. Преобразование обучающей выборки нужно делать с помощью функции fit_transform, тестовой — с помощью transform.\n",
    "\n",
    "Реализация SVM-классификатора находится в классе sklearn.svm.SVC. Веса каждого признака у обученного классификатора хранятся в поле coef_. Чтобы понять, какому слову соответствует i-й признак, можно воспользоваться методом get_feature_names() у TfidfVectorizer:\n",
    "\n",
    "feature_mapping = vectorizer.get_feature_names()\n",
    "print feature_mapping[i]\n",
    "\n",
    "Подбор параметров удобно делать с помощью класса sklearn.grid_search.GridSearchCV (При использовании библиотеки scikit-learn версии 18.0.1 sklearn.model_selection.GridSearchCV). Пример использования:\n",
    "\n",
    "grid = {'C': np.power(10.0, np.arange(-5, 6))}\n",
    "cv = KFold(y.size, n_folds=5, shuffle=True, random_state=241)\n",
    "clf = svm.SVC(kernel='linear', random_state=241)\n",
    "gs = GridSearchCV(clf, grid, scoring='accuracy', cv=cv)\n",
    "gs.fit(X, y)\n",
    "\n",
    "При использовании библиотеки scikit-learn версии 18.0.1 и выше KFold задаётся немного по-другому:\n",
    "cv = KFold(n_splits=5, shuffle=True, random_state=241)\n",
    "\n",
    "Первым аргументом в GridSearchCV передается классификатор, для которого будут подбираться значения параметров, вторым — словарь (dict), задающий сетку параметров для перебора. После того, как перебор окончен, можно проанализировать значения качества для всех значений параметров и выбрать наилучший вариант:\n",
    "\n",
    "for a in gs.grid_scores_:\n",
    "    # a.mean_validation_score — оценка качества по кросс-валидации\n",
    "    # a.parameters — значения параметров\n",
    "    \n",
    "Инструкция по выполнению\n",
    "\n",
    "    Загрузите объекты из новостного датасета 20 newsgroups, относящиеся к категориям \"космос\" и \"атеизм\" (инструкция приведена выше). Обратите внимание, что загрузка данных может занять несколько минут\n",
    "\n",
    "    Вычислите TF-IDF-признаки для всех текстов. Обратите внимание, что в этом задании мы предлагаем вам вычислить TF-IDF по всем данным. При таком подходе получается, что признаки на обучающем множестве используют информацию из тестовой выборки — но такая ситуация вполне законна, поскольку мы не используем значения целевой переменной из теста. На практике нередко встречаются ситуации, когда признаки объектов тестовой выборки известны на момент обучения, и поэтому можно ими пользоваться при обучении алгоритма.\n",
    "\n",
    "    Подберите минимальный лучший параметр C из множества [10^-5, 10^-4, ... 10^4, 10^5] для SVM с линейным ядром (kernel='linear') при помощи кросс-валидации по 5 блокам. Укажите параметр random_state=241 и для SVM, и для KFold. В качестве меры качества используйте долю верных ответов (accuracy).\n",
    "\n",
    "    Обучите SVM по всей выборке с оптимальным параметром C, найденным на предыдущем шаге.\n",
    "\n",
    "    Найдите 10 слов с наибольшим абсолютным значением веса (веса хранятся в поле coef_ у svm.SVC). Они являются ответом на это задание. Укажите эти слова через запятую или пробел, в нижнем регистре, в лексикографическом порядке."
   ]
  },
  {
   "cell_type": "code",
   "execution_count": 2,
   "id": "00f998b0",
   "metadata": {},
   "outputs": [],
   "source": [
    "newsgroups = datasets.fetch_20newsgroups(subset='all', categories=['alt.atheism', 'sci.space'])"
   ]
  },
  {
   "cell_type": "code",
   "execution_count": 3,
   "id": "c7cc5e8c",
   "metadata": {},
   "outputs": [],
   "source": [
    "#newsgroups.data\n",
    "y = newsgroups.target"
   ]
  },
  {
   "cell_type": "code",
   "execution_count": 7,
   "id": "70cb3aad",
   "metadata": {},
   "outputs": [],
   "source": [
    "TfidfVectorizer?\n",
    "#Преобразование обучающей выборки нужно делать с помощью функции fit_transform, тестовой — с помощью transform."
   ]
  },
  {
   "cell_type": "code",
   "execution_count": 4,
   "id": "8b87397a",
   "metadata": {},
   "outputs": [],
   "source": [
    "vectorizer = TfidfVectorizer()\n",
    "X = vectorizer.fit_transform(newsgroups.data)\n",
    "#print(vectorizer.get_feature_names())"
   ]
  },
  {
   "cell_type": "code",
   "execution_count": 11,
   "id": "c3499698",
   "metadata": {},
   "outputs": [],
   "source": [
    "vectorizer?"
   ]
  },
  {
   "cell_type": "code",
   "execution_count": 5,
   "id": "de092c66",
   "metadata": {},
   "outputs": [
    {
     "data": {
      "text/plain": [
       "GridSearchCV(cv=KFold(n_splits=5, random_state=241, shuffle=True),\n",
       "             estimator=SVC(kernel='linear', random_state=241),\n",
       "             param_grid={'C': array([1.e-05, 1.e-04, 1.e-03, 1.e-02, 1.e-01, 1.e+00, 1.e+01, 1.e+02,\n",
       "       1.e+03, 1.e+04, 1.e+05])},\n",
       "             scoring='accuracy')"
      ]
     },
     "execution_count": 5,
     "metadata": {},
     "output_type": "execute_result"
    }
   ],
   "source": [
    "grid = {'C': np.power(10.0, np.arange(-5, 6))}\n",
    "cv = KFold(n_splits=5, shuffle=True, random_state=241)\n",
    "clf = SVC(kernel='linear', random_state=241)\n",
    "gs = GridSearchCV(clf, grid, scoring='accuracy', cv=cv)\n",
    "gs.fit(X, y)"
   ]
  },
  {
   "cell_type": "code",
   "execution_count": 7,
   "id": "a642e884",
   "metadata": {},
   "outputs": [
    {
     "data": {
      "text/plain": [
       "{'C': array([1.e-05, 1.e-04, 1.e-03, 1.e-02, 1.e-01, 1.e+00, 1.e+01, 1.e+02,\n",
       "        1.e+03, 1.e+04, 1.e+05])}"
      ]
     },
     "execution_count": 7,
     "metadata": {},
     "output_type": "execute_result"
    }
   ],
   "source": [
    "grid"
   ]
  },
  {
   "cell_type": "code",
   "execution_count": 32,
   "id": "dea9fa6a",
   "metadata": {},
   "outputs": [],
   "source": [
    "GridSearchCV?"
   ]
  },
  {
   "cell_type": "code",
   "execution_count": 26,
   "id": "106ccd43",
   "metadata": {},
   "outputs": [
    {
     "ename": "AttributeError",
     "evalue": "'GridSearchCV' object has no attribute 'grid_scores_'",
     "output_type": "error",
     "traceback": [
      "\u001b[0;31m---------------------------------------------------------------------------\u001b[0m",
      "\u001b[0;31mAttributeError\u001b[0m                            Traceback (most recent call last)",
      "\u001b[0;32m<ipython-input-26-99ac9d80c69b>\u001b[0m in \u001b[0;36m<module>\u001b[0;34m\u001b[0m\n\u001b[0;32m----> 1\u001b[0;31m \u001b[0;32mfor\u001b[0m \u001b[0ma\u001b[0m \u001b[0;32min\u001b[0m \u001b[0mgs\u001b[0m\u001b[0;34m.\u001b[0m\u001b[0mgrid_scores_\u001b[0m\u001b[0;34m:\u001b[0m\u001b[0;34m\u001b[0m\u001b[0;34m\u001b[0m\u001b[0m\n\u001b[0m\u001b[1;32m      2\u001b[0m     \u001b[0;31m# a.mean_validation_score — оценка качества по кросс-валидации\u001b[0m\u001b[0;34m\u001b[0m\u001b[0;34m\u001b[0m\u001b[0;34m\u001b[0m\u001b[0m\n\u001b[1;32m      3\u001b[0m     \u001b[0;31m# a.parameters — значения параметров\u001b[0m\u001b[0;34m\u001b[0m\u001b[0;34m\u001b[0m\u001b[0;34m\u001b[0m\u001b[0m\n\u001b[1;32m      4\u001b[0m     \u001b[0mprint\u001b[0m\u001b[0;34m(\u001b[0m\u001b[0ma\u001b[0m\u001b[0;34m.\u001b[0m\u001b[0mparameters\u001b[0m\u001b[0;34m)\u001b[0m\u001b[0;34m\u001b[0m\u001b[0;34m\u001b[0m\u001b[0m\n",
      "\u001b[0;31mAttributeError\u001b[0m: 'GridSearchCV' object has no attribute 'grid_scores_'"
     ]
    }
   ],
   "source": [
    "for a in gs.grid_scores_:\n",
    "    # a.mean_validation_score — оценка качества по кросс-валидации\n",
    "    # a.parameters — значения параметров\n",
    "    print(a.parameters)"
   ]
  },
  {
   "cell_type": "code",
   "execution_count": 8,
   "id": "4ff4c2cf",
   "metadata": {},
   "outputs": [
    {
     "data": {
      "text/plain": [
       "{'C': 1.0}"
      ]
     },
     "execution_count": 8,
     "metadata": {},
     "output_type": "execute_result"
    }
   ],
   "source": [
    "gs.best_params_"
   ]
  },
  {
   "cell_type": "code",
   "execution_count": 36,
   "id": "e1244b36",
   "metadata": {},
   "outputs": [
    {
     "data": {
      "text/plain": [
       "1.0"
      ]
     },
     "execution_count": 36,
     "metadata": {},
     "output_type": "execute_result"
    }
   ],
   "source": [
    "gs.best_params_['C']"
   ]
  },
  {
   "cell_type": "code",
   "execution_count": 33,
   "id": "3f414e31",
   "metadata": {},
   "outputs": [
    {
     "data": {
      "text/html": [
       "<div>\n",
       "<style scoped>\n",
       "    .dataframe tbody tr th:only-of-type {\n",
       "        vertical-align: middle;\n",
       "    }\n",
       "\n",
       "    .dataframe tbody tr th {\n",
       "        vertical-align: top;\n",
       "    }\n",
       "\n",
       "    .dataframe thead th {\n",
       "        text-align: right;\n",
       "    }\n",
       "</style>\n",
       "<table border=\"1\" class=\"dataframe\">\n",
       "  <thead>\n",
       "    <tr style=\"text-align: right;\">\n",
       "      <th></th>\n",
       "      <th>mean_fit_time</th>\n",
       "      <th>std_fit_time</th>\n",
       "      <th>mean_score_time</th>\n",
       "      <th>std_score_time</th>\n",
       "      <th>param_C</th>\n",
       "      <th>params</th>\n",
       "      <th>split0_test_score</th>\n",
       "      <th>split1_test_score</th>\n",
       "      <th>split2_test_score</th>\n",
       "      <th>split3_test_score</th>\n",
       "      <th>split4_test_score</th>\n",
       "      <th>mean_test_score</th>\n",
       "      <th>std_test_score</th>\n",
       "      <th>rank_test_score</th>\n",
       "    </tr>\n",
       "  </thead>\n",
       "  <tbody>\n",
       "    <tr>\n",
       "      <th>0</th>\n",
       "      <td>4.359813</td>\n",
       "      <td>0.201477</td>\n",
       "      <td>1.049717</td>\n",
       "      <td>0.040726</td>\n",
       "      <td>0.00001</td>\n",
       "      <td>{'C': 1e-05}</td>\n",
       "      <td>0.544693</td>\n",
       "      <td>0.579832</td>\n",
       "      <td>0.571429</td>\n",
       "      <td>0.501401</td>\n",
       "      <td>0.565826</td>\n",
       "      <td>0.552636</td>\n",
       "      <td>0.028124</td>\n",
       "      <td>8</td>\n",
       "    </tr>\n",
       "    <tr>\n",
       "      <th>1</th>\n",
       "      <td>4.223458</td>\n",
       "      <td>0.099030</td>\n",
       "      <td>1.016188</td>\n",
       "      <td>0.021366</td>\n",
       "      <td>0.0001</td>\n",
       "      <td>{'C': 0.0001}</td>\n",
       "      <td>0.544693</td>\n",
       "      <td>0.579832</td>\n",
       "      <td>0.571429</td>\n",
       "      <td>0.501401</td>\n",
       "      <td>0.565826</td>\n",
       "      <td>0.552636</td>\n",
       "      <td>0.028124</td>\n",
       "      <td>8</td>\n",
       "    </tr>\n",
       "    <tr>\n",
       "      <th>2</th>\n",
       "      <td>4.358517</td>\n",
       "      <td>0.084997</td>\n",
       "      <td>1.010107</td>\n",
       "      <td>0.018529</td>\n",
       "      <td>0.001</td>\n",
       "      <td>{'C': 0.001}</td>\n",
       "      <td>0.544693</td>\n",
       "      <td>0.579832</td>\n",
       "      <td>0.571429</td>\n",
       "      <td>0.501401</td>\n",
       "      <td>0.565826</td>\n",
       "      <td>0.552636</td>\n",
       "      <td>0.028124</td>\n",
       "      <td>8</td>\n",
       "    </tr>\n",
       "    <tr>\n",
       "      <th>3</th>\n",
       "      <td>4.475308</td>\n",
       "      <td>0.145986</td>\n",
       "      <td>1.087158</td>\n",
       "      <td>0.067749</td>\n",
       "      <td>0.01</td>\n",
       "      <td>{'C': 0.01}</td>\n",
       "      <td>0.544693</td>\n",
       "      <td>0.579832</td>\n",
       "      <td>0.571429</td>\n",
       "      <td>0.501401</td>\n",
       "      <td>0.565826</td>\n",
       "      <td>0.552636</td>\n",
       "      <td>0.028124</td>\n",
       "      <td>8</td>\n",
       "    </tr>\n",
       "    <tr>\n",
       "      <th>4</th>\n",
       "      <td>3.604141</td>\n",
       "      <td>0.096159</td>\n",
       "      <td>0.866028</td>\n",
       "      <td>0.021691</td>\n",
       "      <td>0.1</td>\n",
       "      <td>{'C': 0.1}</td>\n",
       "      <td>0.958101</td>\n",
       "      <td>0.949580</td>\n",
       "      <td>0.957983</td>\n",
       "      <td>0.935574</td>\n",
       "      <td>0.949580</td>\n",
       "      <td>0.950164</td>\n",
       "      <td>0.008218</td>\n",
       "      <td>7</td>\n",
       "    </tr>\n",
       "    <tr>\n",
       "      <th>5</th>\n",
       "      <td>2.169620</td>\n",
       "      <td>0.024029</td>\n",
       "      <td>0.506953</td>\n",
       "      <td>0.023114</td>\n",
       "      <td>1.0</td>\n",
       "      <td>{'C': 1.0}</td>\n",
       "      <td>0.994413</td>\n",
       "      <td>0.985994</td>\n",
       "      <td>1.000000</td>\n",
       "      <td>0.991597</td>\n",
       "      <td>0.994398</td>\n",
       "      <td>0.993280</td>\n",
       "      <td>0.004552</td>\n",
       "      <td>1</td>\n",
       "    </tr>\n",
       "    <tr>\n",
       "      <th>6</th>\n",
       "      <td>2.136016</td>\n",
       "      <td>0.033425</td>\n",
       "      <td>0.504461</td>\n",
       "      <td>0.017035</td>\n",
       "      <td>10.0</td>\n",
       "      <td>{'C': 10.0}</td>\n",
       "      <td>0.994413</td>\n",
       "      <td>0.985994</td>\n",
       "      <td>1.000000</td>\n",
       "      <td>0.991597</td>\n",
       "      <td>0.994398</td>\n",
       "      <td>0.993280</td>\n",
       "      <td>0.004552</td>\n",
       "      <td>1</td>\n",
       "    </tr>\n",
       "    <tr>\n",
       "      <th>7</th>\n",
       "      <td>2.120512</td>\n",
       "      <td>0.032749</td>\n",
       "      <td>0.498414</td>\n",
       "      <td>0.010957</td>\n",
       "      <td>100.0</td>\n",
       "      <td>{'C': 100.0}</td>\n",
       "      <td>0.994413</td>\n",
       "      <td>0.985994</td>\n",
       "      <td>1.000000</td>\n",
       "      <td>0.991597</td>\n",
       "      <td>0.994398</td>\n",
       "      <td>0.993280</td>\n",
       "      <td>0.004552</td>\n",
       "      <td>1</td>\n",
       "    </tr>\n",
       "    <tr>\n",
       "      <th>8</th>\n",
       "      <td>2.201697</td>\n",
       "      <td>0.060111</td>\n",
       "      <td>0.509836</td>\n",
       "      <td>0.006536</td>\n",
       "      <td>1000.0</td>\n",
       "      <td>{'C': 1000.0}</td>\n",
       "      <td>0.994413</td>\n",
       "      <td>0.985994</td>\n",
       "      <td>1.000000</td>\n",
       "      <td>0.991597</td>\n",
       "      <td>0.994398</td>\n",
       "      <td>0.993280</td>\n",
       "      <td>0.004552</td>\n",
       "      <td>1</td>\n",
       "    </tr>\n",
       "    <tr>\n",
       "      <th>9</th>\n",
       "      <td>2.158285</td>\n",
       "      <td>0.032323</td>\n",
       "      <td>0.507053</td>\n",
       "      <td>0.016976</td>\n",
       "      <td>10000.0</td>\n",
       "      <td>{'C': 10000.0}</td>\n",
       "      <td>0.994413</td>\n",
       "      <td>0.985994</td>\n",
       "      <td>1.000000</td>\n",
       "      <td>0.991597</td>\n",
       "      <td>0.994398</td>\n",
       "      <td>0.993280</td>\n",
       "      <td>0.004552</td>\n",
       "      <td>1</td>\n",
       "    </tr>\n",
       "    <tr>\n",
       "      <th>10</th>\n",
       "      <td>2.141206</td>\n",
       "      <td>0.035175</td>\n",
       "      <td>0.503066</td>\n",
       "      <td>0.008373</td>\n",
       "      <td>100000.0</td>\n",
       "      <td>{'C': 100000.0}</td>\n",
       "      <td>0.994413</td>\n",
       "      <td>0.985994</td>\n",
       "      <td>1.000000</td>\n",
       "      <td>0.991597</td>\n",
       "      <td>0.994398</td>\n",
       "      <td>0.993280</td>\n",
       "      <td>0.004552</td>\n",
       "      <td>1</td>\n",
       "    </tr>\n",
       "  </tbody>\n",
       "</table>\n",
       "</div>"
      ],
      "text/plain": [
       "    mean_fit_time  std_fit_time  mean_score_time  std_score_time   param_C  \\\n",
       "0        4.359813      0.201477         1.049717        0.040726   0.00001   \n",
       "1        4.223458      0.099030         1.016188        0.021366    0.0001   \n",
       "2        4.358517      0.084997         1.010107        0.018529     0.001   \n",
       "3        4.475308      0.145986         1.087158        0.067749      0.01   \n",
       "4        3.604141      0.096159         0.866028        0.021691       0.1   \n",
       "5        2.169620      0.024029         0.506953        0.023114       1.0   \n",
       "6        2.136016      0.033425         0.504461        0.017035      10.0   \n",
       "7        2.120512      0.032749         0.498414        0.010957     100.0   \n",
       "8        2.201697      0.060111         0.509836        0.006536    1000.0   \n",
       "9        2.158285      0.032323         0.507053        0.016976   10000.0   \n",
       "10       2.141206      0.035175         0.503066        0.008373  100000.0   \n",
       "\n",
       "             params  split0_test_score  split1_test_score  split2_test_score  \\\n",
       "0      {'C': 1e-05}           0.544693           0.579832           0.571429   \n",
       "1     {'C': 0.0001}           0.544693           0.579832           0.571429   \n",
       "2      {'C': 0.001}           0.544693           0.579832           0.571429   \n",
       "3       {'C': 0.01}           0.544693           0.579832           0.571429   \n",
       "4        {'C': 0.1}           0.958101           0.949580           0.957983   \n",
       "5        {'C': 1.0}           0.994413           0.985994           1.000000   \n",
       "6       {'C': 10.0}           0.994413           0.985994           1.000000   \n",
       "7      {'C': 100.0}           0.994413           0.985994           1.000000   \n",
       "8     {'C': 1000.0}           0.994413           0.985994           1.000000   \n",
       "9    {'C': 10000.0}           0.994413           0.985994           1.000000   \n",
       "10  {'C': 100000.0}           0.994413           0.985994           1.000000   \n",
       "\n",
       "    split3_test_score  split4_test_score  mean_test_score  std_test_score  \\\n",
       "0            0.501401           0.565826         0.552636        0.028124   \n",
       "1            0.501401           0.565826         0.552636        0.028124   \n",
       "2            0.501401           0.565826         0.552636        0.028124   \n",
       "3            0.501401           0.565826         0.552636        0.028124   \n",
       "4            0.935574           0.949580         0.950164        0.008218   \n",
       "5            0.991597           0.994398         0.993280        0.004552   \n",
       "6            0.991597           0.994398         0.993280        0.004552   \n",
       "7            0.991597           0.994398         0.993280        0.004552   \n",
       "8            0.991597           0.994398         0.993280        0.004552   \n",
       "9            0.991597           0.994398         0.993280        0.004552   \n",
       "10           0.991597           0.994398         0.993280        0.004552   \n",
       "\n",
       "    rank_test_score  \n",
       "0                 8  \n",
       "1                 8  \n",
       "2                 8  \n",
       "3                 8  \n",
       "4                 7  \n",
       "5                 1  \n",
       "6                 1  \n",
       "7                 1  \n",
       "8                 1  \n",
       "9                 1  \n",
       "10                1  "
      ]
     },
     "execution_count": 33,
     "metadata": {},
     "output_type": "execute_result"
    }
   ],
   "source": [
    "pd.DataFrame(gs.cv_results_)"
   ]
  },
  {
   "cell_type": "code",
   "execution_count": 3,
   "id": "dceecc3e",
   "metadata": {},
   "outputs": [
    {
     "ename": "NameError",
     "evalue": "name 'X' is not defined",
     "output_type": "error",
     "traceback": [
      "\u001b[0;31m---------------------------------------------------------------------------\u001b[0m",
      "\u001b[0;31mNameError\u001b[0m                                 Traceback (most recent call last)",
      "\u001b[0;32m<ipython-input-3-cee60d11d7be>\u001b[0m in \u001b[0;36m<module>\u001b[0;34m\u001b[0m\n\u001b[1;32m      1\u001b[0m \u001b[0mclf\u001b[0m \u001b[0;34m=\u001b[0m \u001b[0mSVC\u001b[0m\u001b[0;34m(\u001b[0m\u001b[0mC\u001b[0m\u001b[0;34m=\u001b[0m\u001b[0;36m1.0\u001b[0m\u001b[0;34m,\u001b[0m \u001b[0mkernel\u001b[0m\u001b[0;34m=\u001b[0m\u001b[0;34m'linear'\u001b[0m\u001b[0;34m,\u001b[0m \u001b[0mrandom_state\u001b[0m\u001b[0;34m=\u001b[0m\u001b[0;36m241\u001b[0m\u001b[0;34m)\u001b[0m\u001b[0;34m\u001b[0m\u001b[0;34m\u001b[0m\u001b[0m\n\u001b[0;32m----> 2\u001b[0;31m \u001b[0mclf\u001b[0m\u001b[0;34m.\u001b[0m\u001b[0mfit\u001b[0m\u001b[0;34m(\u001b[0m\u001b[0mX\u001b[0m\u001b[0;34m,\u001b[0m \u001b[0my\u001b[0m\u001b[0;34m)\u001b[0m\u001b[0;34m\u001b[0m\u001b[0;34m\u001b[0m\u001b[0m\n\u001b[0m",
      "\u001b[0;31mNameError\u001b[0m: name 'X' is not defined"
     ]
    }
   ],
   "source": [
    "clf = SVC(C=1.0, kernel='linear', random_state=241)\n",
    "clf.fit(X, y)"
   ]
  },
  {
   "cell_type": "code",
   "execution_count": 38,
   "id": "3acb5020",
   "metadata": {},
   "outputs": [
    {
     "name": "stdout",
     "output_type": "stream",
     "text": [
      "<class 'list'>\n",
      "[<1x28382 sparse matrix of type '<class 'numpy.float64'>'\n",
      "\twith 18404 stored elements in Compressed Sparse Row format>]\n"
     ]
    }
   ],
   "source": [
    "#Найдите 10 слов с наибольшим абсолютным значением веса (веса хранятся в поле coef_ у svm.SVC). \n",
    "#Они являются ответом на это задание. Укажите эти слова через запятую или пробел, \n",
    "#в нижнем регистре, в лексикографическом порядке.\n",
    "cf = list(clf.coef_)\n",
    "print(type(cf))\n",
    "print(cf)"
   ]
  },
  {
   "cell_type": "code",
   "execution_count": 4,
   "id": "74388cad",
   "metadata": {},
   "outputs": [],
   "source": [
    "#SVC?\n",
    "#cf = list(cf)\n",
    "\n",
    "clf?\n",
    "\n",
    "# coef_ : ndarray of shape (n_classes * (n_classes - 1) / 2, n_features)\n",
    "#     Weights assigned to the features (coefficients in the primal\n",
    "#     problem). This is only available in the case of a linear kernel.\n",
    "\n",
    "#     `coef_` is a readonly property derived from `dual_coef_` and\n",
    "#     `support_vectors_`."
   ]
  },
  {
   "cell_type": "code",
   "execution_count": 31,
   "id": "9591d0b0",
   "metadata": {},
   "outputs": [
    {
     "name": "stdout",
     "output_type": "stream",
     "text": [
      "[[0.5 0.5]]\n"
     ]
    },
    {
     "data": {
      "text/plain": [
       "(1, 2)"
      ]
     },
     "execution_count": 31,
     "metadata": {},
     "output_type": "execute_result"
    }
   ],
   "source": [
    "X_ex = np.array([[-1, -1], [-2, -1], [1, 1], [2, 1]])\n",
    "y_ex = np.array([1, 1, 2, 2]) # 2 classes\n",
    "\n",
    "clf_ex = SVC(kernel='linear')\n",
    "clf_ex.fit(X_ex, y_ex)\n",
    "\n",
    "print(clf_ex.coef_)\n",
    "clf_ex.coef_.shape"
   ]
  },
  {
   "cell_type": "code",
   "execution_count": 47,
   "id": "9df95d65",
   "metadata": {},
   "outputs": [],
   "source": [
    "word = pd.DataFrame(data=vectorizer.get_feature_names())\n",
    "coef = pd.DataFrame(data=np.abs(np.asarray(clf.coef_.todense()).reshape(-1)))\n",
    "data = pd.concat([word, coef], axis=1)\n",
    "data.columns = ['word', 'coef']\n",
    "#data.sort_index(by=['coef'])[-10:]"
   ]
  },
  {
   "cell_type": "code",
   "execution_count": 48,
   "id": "21587500",
   "metadata": {},
   "outputs": [
    {
     "data": {
      "text/html": [
       "<div>\n",
       "<style scoped>\n",
       "    .dataframe tbody tr th:only-of-type {\n",
       "        vertical-align: middle;\n",
       "    }\n",
       "\n",
       "    .dataframe tbody tr th {\n",
       "        vertical-align: top;\n",
       "    }\n",
       "\n",
       "    .dataframe thead th {\n",
       "        text-align: right;\n",
       "    }\n",
       "</style>\n",
       "<table border=\"1\" class=\"dataframe\">\n",
       "  <thead>\n",
       "    <tr style=\"text-align: right;\">\n",
       "      <th></th>\n",
       "      <th>word</th>\n",
       "      <th>coef</th>\n",
       "    </tr>\n",
       "  </thead>\n",
       "  <tbody>\n",
       "    <tr>\n",
       "      <th>0</th>\n",
       "      <td>00</td>\n",
       "      <td>0.292581</td>\n",
       "    </tr>\n",
       "    <tr>\n",
       "      <th>1</th>\n",
       "      <td>000</td>\n",
       "      <td>0.123148</td>\n",
       "    </tr>\n",
       "    <tr>\n",
       "      <th>2</th>\n",
       "      <td>0000</td>\n",
       "      <td>0.000000</td>\n",
       "    </tr>\n",
       "    <tr>\n",
       "      <th>3</th>\n",
       "      <td>00000</td>\n",
       "      <td>0.000000</td>\n",
       "    </tr>\n",
       "    <tr>\n",
       "      <th>4</th>\n",
       "      <td>000000</td>\n",
       "      <td>0.000000</td>\n",
       "    </tr>\n",
       "    <tr>\n",
       "      <th>...</th>\n",
       "      <td>...</td>\n",
       "      <td>...</td>\n",
       "    </tr>\n",
       "    <tr>\n",
       "      <th>28377</th>\n",
       "      <td>zwakke</td>\n",
       "      <td>0.009864</td>\n",
       "    </tr>\n",
       "    <tr>\n",
       "      <th>28378</th>\n",
       "      <td>zware</td>\n",
       "      <td>0.009864</td>\n",
       "    </tr>\n",
       "    <tr>\n",
       "      <th>28379</th>\n",
       "      <td>zwarte</td>\n",
       "      <td>0.019729</td>\n",
       "    </tr>\n",
       "    <tr>\n",
       "      <th>28380</th>\n",
       "      <td>zwork</td>\n",
       "      <td>0.058313</td>\n",
       "    </tr>\n",
       "    <tr>\n",
       "      <th>28381</th>\n",
       "      <td>zyklon</td>\n",
       "      <td>0.002973</td>\n",
       "    </tr>\n",
       "  </tbody>\n",
       "</table>\n",
       "<p>28382 rows × 2 columns</p>\n",
       "</div>"
      ],
      "text/plain": [
       "         word      coef\n",
       "0          00  0.292581\n",
       "1         000  0.123148\n",
       "2        0000  0.000000\n",
       "3       00000  0.000000\n",
       "4      000000  0.000000\n",
       "...       ...       ...\n",
       "28377  zwakke  0.009864\n",
       "28378   zware  0.009864\n",
       "28379  zwarte  0.019729\n",
       "28380   zwork  0.058313\n",
       "28381  zyklon  0.002973\n",
       "\n",
       "[28382 rows x 2 columns]"
      ]
     },
     "execution_count": 48,
     "metadata": {},
     "output_type": "execute_result"
    }
   ],
   "source": [
    "data"
   ]
  },
  {
   "cell_type": "code",
   "execution_count": 55,
   "id": "84b21d3b",
   "metadata": {},
   "outputs": [],
   "source": [
    "ix = np.argsort(np.abs(np.asarray(clf.coef_.todense())).reshape(-1))[-10:]"
   ]
  },
  {
   "cell_type": "code",
   "execution_count": 68,
   "id": "306fa443",
   "metadata": {},
   "outputs": [
    {
     "name": "stdout",
     "output_type": "stream",
     "text": [
      "sci\n",
      "keith\n",
      "bible\n",
      "religion\n",
      "sky\n",
      "moon\n",
      "atheists\n",
      "atheism\n",
      "god\n",
      "space\n"
     ]
    }
   ],
   "source": [
    "for i in ix: print(vectorizer.get_feature_names()[i])"
   ]
  },
  {
   "cell_type": "code",
   "execution_count": 67,
   "id": "1ebba8e5",
   "metadata": {},
   "outputs": [
    {
     "name": "stdout",
     "output_type": "stream",
     "text": [
      "atheism atheists bible god keith moon religion sci sky space\n"
     ]
    }
   ],
   "source": [
    "ans = []\n",
    "for i in ix: ans.append(vectorizer.get_feature_names()[i])\n",
    "ans.sort()\n",
    "answer = ''\n",
    "for a in ans: answer += a + ' '\n",
    "answer = answer.strip()\n",
    "print(answer)\n",
    "with open('lab7.txt', 'w') as outfile:\n",
    "    outfile.write(answer)"
   ]
  }
 ],
 "metadata": {
  "kernelspec": {
   "display_name": "Python 3",
   "language": "python",
   "name": "python3"
  },
  "language_info": {
   "codemirror_mode": {
    "name": "ipython",
    "version": 3
   },
   "file_extension": ".py",
   "mimetype": "text/x-python",
   "name": "python",
   "nbconvert_exporter": "python",
   "pygments_lexer": "ipython3",
   "version": "3.8.8"
  }
 },
 "nbformat": 4,
 "nbformat_minor": 5
}
